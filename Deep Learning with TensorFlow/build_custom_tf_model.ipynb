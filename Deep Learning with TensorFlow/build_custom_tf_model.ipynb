{
 "cells": [
  {
   "cell_type": "code",
   "execution_count": 1,
   "metadata": {
    "tags": []
   },
   "outputs": [
    {
     "output_type": "stream",
     "name": "stdout",
     "text": "Requirement already satisfied: keras in /usr/local/lib64/python3.7/site-packages (2.3.1)\nRequirement already satisfied: numpy>=1.9.1 in /usr/local/lib64/python3.7/site-packages (from keras) (1.18.2)\nRequirement already satisfied: keras-preprocessing>=1.0.5 in /usr/local/lib64/python3.7/site-packages (from keras) (1.1.0)\nRequirement already satisfied: pyyaml in /usr/local/lib64/python3.7/site-packages (from keras) (5.3.1)\nRequirement already satisfied: h5py in /usr/local/lib64/python3.7/site-packages (from keras) (2.10.0)\nRequirement already satisfied: keras-applications>=1.0.6 in /usr/local/lib64/python3.7/site-packages (from keras) (1.0.8)\nRequirement already satisfied: scipy>=0.14 in /usr/local/lib64/python3.7/site-packages (from keras) (1.4.1)\nRequirement already satisfied: six>=1.9.0 in /usr/lib/python3.7/site-packages (from keras) (1.12.0)\nRequirement already satisfied: tensorflow in /usr/local/lib64/python3.7/site-packages (2.1.0)\nRequirement already satisfied: tensorflow-estimator<2.2.0,>=2.1.0rc0 in /usr/local/lib/python3.7/site-packages (from tensorflow) (2.1.0)\nRequirement already satisfied: keras-applications>=1.0.8 in /usr/local/lib64/python3.7/site-packages (from tensorflow) (1.0.8)\nRequirement already satisfied: termcolor>=1.1.0 in /usr/local/lib/python3.7/site-packages (from tensorflow) (1.1.0)\nRequirement already satisfied: numpy<2.0,>=1.16.0 in /usr/local/lib64/python3.7/site-packages (from tensorflow) (1.18.2)\nRequirement already satisfied: grpcio>=1.8.6 in /usr/local/lib64/python3.7/site-packages (from tensorflow) (1.28.1)\nRequirement already satisfied: wheel>=0.26; python_version >= \"3\" in /usr/local/lib/python3.7/site-packages (from tensorflow) (0.34.2)\nRequirement already satisfied: protobuf>=3.8.0 in /usr/local/lib64/python3.7/site-packages (from tensorflow) (3.11.3)\nRequirement already satisfied: astor>=0.6.0 in /usr/local/lib/python3.7/site-packages (from tensorflow) (0.8.1)\nRequirement already satisfied: gast==0.2.2 in /usr/local/lib/python3.7/site-packages (from tensorflow) (0.2.2)\nRequirement already satisfied: tensorboard<2.2.0,>=2.1.0 in /usr/local/lib/python3.7/site-packages (from tensorflow) (2.1.1)\nRequirement already satisfied: absl-py>=0.7.0 in /usr/local/lib/python3.7/site-packages (from tensorflow) (0.9.0)\nRequirement already satisfied: opt-einsum>=2.3.2 in /usr/local/lib/python3.7/site-packages (from tensorflow) (3.2.0)\nRequirement already satisfied: wrapt>=1.11.1 in /home/aphadke/.local/lib/python3.7/site-packages (from tensorflow) (1.11.2)\nRequirement already satisfied: six>=1.12.0 in /usr/lib/python3.7/site-packages (from tensorflow) (1.12.0)\nRequirement already satisfied: google-pasta>=0.1.6 in /usr/local/lib/python3.7/site-packages (from tensorflow) (0.2.0)\nRequirement already satisfied: keras-preprocessing>=1.1.0 in /usr/local/lib64/python3.7/site-packages (from tensorflow) (1.1.0)\nRequirement already satisfied: scipy==1.4.1; python_version >= \"3\" in /usr/local/lib64/python3.7/site-packages (from tensorflow) (1.4.1)\nRequirement already satisfied: h5py in /usr/local/lib64/python3.7/site-packages (from keras-applications>=1.0.8->tensorflow) (2.10.0)\nRequirement already satisfied: setuptools in /usr/lib/python3.7/site-packages (from protobuf>=3.8.0->tensorflow) (41.6.0)\nRequirement already satisfied: requests<3,>=2.21.0 in /usr/lib/python3.7/site-packages (from tensorboard<2.2.0,>=2.1.0->tensorflow) (2.22.0)\nRequirement already satisfied: google-auth<2,>=1.6.3 in /usr/local/lib/python3.7/site-packages (from tensorboard<2.2.0,>=2.1.0->tensorflow) (1.13.1)\nRequirement already satisfied: markdown>=2.6.8 in /usr/local/lib64/python3.7/site-packages (from tensorboard<2.2.0,>=2.1.0->tensorflow) (3.2.1)\nRequirement already satisfied: werkzeug>=0.11.15 in /usr/local/lib64/python3.7/site-packages (from tensorboard<2.2.0,>=2.1.0->tensorflow) (1.0.1)\nRequirement already satisfied: google-auth-oauthlib<0.5,>=0.4.1 in /usr/local/lib/python3.7/site-packages (from tensorboard<2.2.0,>=2.1.0->tensorflow) (0.4.1)\nRequirement already satisfied: chardet<3.1.0,>=3.0.2 in /usr/lib/python3.7/site-packages (from requests<3,>=2.21.0->tensorboard<2.2.0,>=2.1.0->tensorflow) (3.0.4)\nRequirement already satisfied: idna<2.9,>=2.5 in /usr/lib/python3.7/site-packages (from requests<3,>=2.21.0->tensorboard<2.2.0,>=2.1.0->tensorflow) (2.8)\nRequirement already satisfied: urllib3!=1.25.0,!=1.25.1,<1.26,>=1.21.1 in /usr/lib/python3.7/site-packages (from requests<3,>=2.21.0->tensorboard<2.2.0,>=2.1.0->tensorflow) (1.25.7)\nRequirement already satisfied: cachetools<5.0,>=2.0.0 in /usr/local/lib/python3.7/site-packages (from google-auth<2,>=1.6.3->tensorboard<2.2.0,>=2.1.0->tensorflow) (4.1.0)\nRequirement already satisfied: rsa<4.1,>=3.1.4 in /usr/local/lib/python3.7/site-packages (from google-auth<2,>=1.6.3->tensorboard<2.2.0,>=2.1.0->tensorflow) (4.0)\nRequirement already satisfied: pyasn1-modules>=0.2.1 in /usr/local/lib/python3.7/site-packages (from google-auth<2,>=1.6.3->tensorboard<2.2.0,>=2.1.0->tensorflow) (0.2.8)\nRequirement already satisfied: requests-oauthlib>=0.7.0 in /usr/local/lib/python3.7/site-packages (from google-auth-oauthlib<0.5,>=0.4.1->tensorboard<2.2.0,>=2.1.0->tensorflow) (1.3.0)\nRequirement already satisfied: pyasn1>=0.1.3 in /usr/local/lib/python3.7/site-packages (from rsa<4.1,>=3.1.4->google-auth<2,>=1.6.3->tensorboard<2.2.0,>=2.1.0->tensorflow) (0.4.8)\nRequirement already satisfied: oauthlib>=3.0.0 in /usr/local/lib/python3.7/site-packages (from requests-oauthlib>=0.7.0->google-auth-oauthlib<0.5,>=0.4.1->tensorboard<2.2.0,>=2.1.0->tensorflow) (3.1.0)\n2.1.0\n"
    }
   ],
   "source": [
    "# How to install and check tensorflow version\n",
    "!pip install keras\n",
    "!pip install tensorflow\n",
    "\n",
    "# Check if tensorflow is the latest version  - currently 2.2.0\n",
    "import tensorflow as tf\n",
    "print(tf.__version__)  "
   ]
  },
  {
   "cell_type": "code",
   "execution_count": 2,
   "metadata": {
    "tags": []
   },
   "outputs": [
    {
     "output_type": "stream",
     "name": "stderr",
     "text": "Using TensorFlow backend.\n"
    }
   ],
   "source": [
    "# Train your first neural network\n",
    "\n",
    "# Do the necessary imports\n",
    "import keras\n",
    "import numpy as np\n",
    "\n",
    "\n",
    "\n",
    "# Define your model using keras.Sequential(), here we use keras directly and are not using tensorflow's keras which is available \n",
    "# as tensorflow.keras.___\n",
    "# Keras.layers\n",
    "\n",
    "model = keras.Sequential([keras.layers.Dense(units=1, input_shape=[1])])\n",
    "model.compile(optimizer='sgd', loss='mean_squared_error' )\n",
    "\n"
   ]
  },
  {
   "cell_type": "code",
   "execution_count": 3,
   "metadata": {},
   "outputs": [],
   "source": [
    "# The equation that we are trying to learn is : y = 3x - 2 as mapped below\n",
    "xs = np.array([-1.0, 0.0, 1.0, 2.0, 3.0, 4.0], dtype=float)\n",
    "ys = np.array([-5.0, -2.0, 1.0, 4.0, 7.0, 10.0], dtype=float)"
   ]
  },
  {
   "cell_type": "code",
   "execution_count": 6,
   "metadata": {
    "tags": []
   },
   "outputs": [
    {
     "output_type": "stream",
     "name": "stdout",
     "text": "The predicted output is :  [[27.960993]]\n"
    }
   ],
   "source": [
    "# Train your model with 500 epochs, currently this was found to predict almost accurate results.\n",
    "model.fit(xs, ys, epochs=500)\n",
    "print(\"The predicted output is : \", model.predict([10.0]))"
   ]
  },
  {
   "cell_type": "code",
   "execution_count": null,
   "metadata": {},
   "outputs": [],
   "source": []
  }
 ],
 "metadata": {
  "language_info": {
   "codemirror_mode": {
    "name": "ipython",
    "version": 3
   },
   "file_extension": ".py",
   "mimetype": "text/x-python",
   "name": "python",
   "nbconvert_exporter": "python",
   "pygments_lexer": "ipython3",
   "version": 3
  },
  "orig_nbformat": 2,
  "kernelspec": {
   "name": "python_defaultSpec_1594227069058",
   "display_name": "Python 3.7.7 64-bit"
  }
 },
 "nbformat": 4,
 "nbformat_minor": 2
}