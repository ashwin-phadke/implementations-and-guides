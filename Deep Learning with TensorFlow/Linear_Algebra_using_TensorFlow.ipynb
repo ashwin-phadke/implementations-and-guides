{
 "metadata": {
  "language_info": {
   "codemirror_mode": {
    "name": "ipython",
    "version": 3
   },
   "file_extension": ".py",
   "mimetype": "text/x-python",
   "name": "python",
   "nbconvert_exporter": "python",
   "pygments_lexer": "ipython3",
   "version": "3.8.5-final"
  },
  "orig_nbformat": 2,
  "kernelspec": {
   "name": "Python 3.8.5 64-bit",
   "display_name": "Python 3.8.5 64-bit",
   "metadata": {
    "interpreter": {
     "hash": "767d51c1340bd893661ea55ea3124f6de3c7a262a8b4abca0554b478b1e2ff90"
    }
   }
  }
 },
 "nbformat": 4,
 "nbformat_minor": 2,
 "cells": [
  {
   "source": [
    "This is a Jupyter notebook to store all the things I have learned about Linear Algebra by using Tensorflow.\n",
    "We are going to use `tf.linalg` from Tensorflow [linalg](https://www.tensorflow.org/api_docs/python/tf/linalg/) function to perform linear algebraic operations."
   ],
   "cell_type": "markdown",
   "metadata": {}
  },
  {
   "cell_type": "code",
   "execution_count": 4,
   "metadata": {
    "tags": []
   },
   "outputs": [
    {
     "output_type": "stream",
     "name": "stdout",
     "text": "2.4.0-dev20201003\n"
    }
   ],
   "source": [
    "# Let us start by importing the base module tensorflow and make sure that we are using the latest version.\n",
    "import tensorflow as tf\n",
    "print(tf.__version__)"
   ]
  },
  {
   "source": [
    "\n",
    "<a id=\"basics\"></a>\n",
    "\n",
    "## Basics\n",
    "\n",
    "Tensorflow operates on `Tensors`. `Tensors` are characterized by their rank. Following table shows different types of tensors and their corresponding rank.\n",
    "\n",
    "|Tensors|  Rank    |\n",
    "|:----:|:----:|\n",
    "|Scalars|Rank 0 Tensor|\n",
    "|Vectors (1D array)| Rank 1 Tensor|\n",
    "|Matrices (2D array)| Rank 2 Tensor|\n",
    "|3D array| Rank 3 Tensor|\n",
    "\n",
    "\n",
    "While using Tensorflow matrices operations using linalg if an array has a shape of (x, y, z), it can be thought of as 3 matrices each of shape (y, z). When we call a matrix function on this array, the matrix function is applied to all 3 matrices of shape (y, z). This is also true for higher dimensional arrays."
   ],
   "cell_type": "markdown",
   "metadata": {}
  },
  {
   "cell_type": "code",
   "execution_count": 6,
   "metadata": {},
   "outputs": [],
   "source": [
    "import numpy as np"
   ]
  },
  {
   "cell_type": "code",
   "execution_count": 17,
   "metadata": {
    "tags": []
   },
   "outputs": [
    {
     "output_type": "stream",
     "name": "stdout",
     "text": "Scalar Tensor :  tf.Tensor(1, shape=(), dtype=int32) \n\n1\nVector Tensor :  tf.Tensor([1. 2. 3. 4. 5.], shape=(5,), dtype=float32) \n\nMatrix as a Tensor : \n tf.Tensor(\n[[1 2]\n [3 4]\n [5 6]], shape=(3, 2), dtype=int32) \n\nVector as a Tensor : \n tf.Tensor(\n[[[ 0  1  2  3  4]\n  [ 5  6  7  8  9]]\n\n [[10 11 12 13 14]\n  [15 16 17 18 19]]\n\n [[20 21 22 23 24]\n  [25 26 27 28 29]]], shape=(3, 2, 5), dtype=int32) \n\n"
    }
   ],
   "source": [
    "# A scalar tensor\n",
    "rank_0_tensor = tf.constant(1)\n",
    "print('Scalar Tensor : ', rank_0_tensor,'\\n')\n",
    "\n",
    "# To access the value of the tensor you can use the following way\n",
    "# print(rank_0_tensor.numpy())\n",
    "\n",
    "# A vector tensor\n",
    "rank_1_tensor = tf.constant([1.0, 2.0, 3.0, 4.0, 5.0])\n",
    "print('Vector Tensor : ', rank_1_tensor,'\\n')\n",
    "\n",
    "# A matrix\n",
    "rank_2_tensor = tf.constant([[1, 2],\n",
    "[3, 4],\n",
    "[5, 6]])\n",
    "print('Matrix as a Tensor : \\n', rank_2_tensor, '\\n')\n",
    "\n",
    "# A 3D array\n",
    "rank_3_tensor = tf.constant([\n",
    "  [[0, 1, 2, 3, 4],\n",
    "   [5, 6, 7, 8, 9]],\n",
    "  [[10, 11, 12, 13, 14],\n",
    "   [15, 16, 17, 18, 19]],\n",
    "  [[20, 21, 22, 23, 24],\n",
    "   [25, 26, 27, 28, 29]],])\n",
    "print('Vector as a Tensor : \\n', rank_3_tensor, '\\n')\n",
    "\n",
    "\n"
   ]
  },
  {
   "cell_type": "code",
   "execution_count": null,
   "metadata": {},
   "outputs": [],
   "source": []
  }
 ]
}