{
 "metadata": {
  "language_info": {
   "codemirror_mode": {
    "name": "ipython",
    "version": 3
   },
   "file_extension": ".py",
   "mimetype": "text/x-python",
   "name": "python",
   "nbconvert_exporter": "python",
   "pygments_lexer": "ipython3",
   "version": "3.8.5-final"
  },
  "orig_nbformat": 2,
  "kernelspec": {
   "name": "Python 3.8.5 64-bit",
   "display_name": "Python 3.8.5 64-bit",
   "metadata": {
    "interpreter": {
     "hash": "767d51c1340bd893661ea55ea3124f6de3c7a262a8b4abca0554b478b1e2ff90"
    }
   }
  }
 },
 "nbformat": 4,
 "nbformat_minor": 2,
 "cells": [
  {
   "source": [
    "This is a Jupyter notebook to store all the things I have learned about Linear Algebra by using Tensorflow.\n",
    "We are going to use `tf.linalg` from Tensorflow [linalg](https://www.tensorflow.org/api_docs/python/tf/linalg/) function to perform linear algebraic operations.\n",
    "\n",
    "[![Open In Colab](https://colab.research.google.com/assets/colab-badge.svg)](https://colab.research.google.com/github/ashwin-phadke/implementations-and-guides/blob/master/Deep%20Learning%20with%20TensorFlow/Linear_Algebra_using_TensorFlow.ipynb)"
   ],
   "cell_type": "markdown",
   "metadata": {}
  },
  {
   "cell_type": "code",
   "execution_count": 1,
   "metadata": {
    "tags": []
   },
   "outputs": [
    {
     "output_type": "stream",
     "name": "stdout",
     "text": [
      "2.4.0-dev20201003\n"
     ]
    }
   ],
   "source": [
    "# Let us start by importing the base module tensorflow and make sure that we are using the latest version.\n",
    "import tensorflow as tf\n",
    "print(tf.__version__)"
   ]
  },
  {
   "source": [
    "\n",
    "<a id=\"basics\"></a>\n",
    "\n",
    "## Basics\n",
    "\n",
    "Tensorflow operates on `Tensors`. `Tensors` are characterized by their rank. Following table shows different types of tensors and their corresponding rank.\n",
    "\n",
    "|Tensors|  Rank    |\n",
    "|:----:|:----:|\n",
    "|Scalars|Rank 0 Tensor|\n",
    "|Vectors (1D array)| Rank 1 Tensor|\n",
    "|Matrices (2D array)| Rank 2 Tensor|\n",
    "|3D array| Rank 3 Tensor|\n",
    "\n",
    "\n",
    "While using Tensorflow matrices operations using linalg if an array has a shape of (x, y, z), it can be thought of as 3 matrices each of shape (y, z). When we call a matrix function on this array, the matrix function is applied to all 3 matrices of shape (y, z). This is also true for higher dimensional arrays."
   ],
   "cell_type": "markdown",
   "metadata": {}
  },
  {
   "cell_type": "code",
   "execution_count": 5,
   "metadata": {},
   "outputs": [],
   "source": [
    "import numpy as np"
   ]
  },
  {
   "cell_type": "code",
   "execution_count": 27,
   "metadata": {
    "tags": []
   },
   "outputs": [
    {
     "output_type": "stream",
     "name": "stdout",
     "text": [
      "Scalar Tensor :  tf.Tensor(1, shape=(), dtype=int32) \n",
      "\n",
      "Vector Tensor :  tf.Tensor([1. 2. 3. 4. 5.], shape=(5,), dtype=float32) \n",
      "\n",
      "Matrix as a Tensor : \n",
      " tf.Tensor(\n",
      "[[1 2]\n",
      " [3 4]\n",
      " [5 6]], shape=(3, 2), dtype=int32) \n",
      "\n",
      "Vector as a Tensor : \n",
      " tf.Tensor(\n",
      "[[[ 0  1  2  3  4]\n",
      "  [ 5  6  7  8  9]]\n",
      "\n",
      " [[10 11 12 13 14]\n",
      "  [15 16 17 18 19]]\n",
      "\n",
      " [[20 21 22 23 24]\n",
      "  [25 26 27 28 29]]], shape=(3, 2, 5), dtype=int32) \n",
      "\n"
     ]
    }
   ],
   "source": [
    "# A scalar tensor\n",
    "rank_0_tensor = tf.constant(1)\n",
    "print('Scalar Tensor : ', rank_0_tensor,'\\n')\n",
    "\n",
    "# To access the value of the tensor you can use the following way\n",
    "# print(rank_0_tensor.numpy())\n",
    "\n",
    "# A vector tensor\n",
    "rank_1_tensor = tf.constant([1.0, 2.0, 3.0, 4.0, 5.0])\n",
    "print('Vector Tensor : ', rank_1_tensor,'\\n')\n",
    "\n",
    "# A matrix\n",
    "rank_2_tensor = tf.constant([[1, 2],\n",
    "[3, 4],\n",
    "[5, 6]])\n",
    "print('Matrix as a Tensor : \\n', rank_2_tensor, '\\n')\n",
    "\n",
    "# A 3D array\n",
    "rank_3_tensor = tf.constant([\n",
    "  [[0, 1, 2, 3, 4],\n",
    "   [5, 6, 7, 8, 9]],\n",
    "  [[10, 11, 12, 13, 14],\n",
    "   [15, 16, 17, 18, 19]],\n",
    "  [[20, 21, 22, 23, 24],\n",
    "   [25, 26, 27, 28, 29]],])\n",
    "print('Vector as a Tensor : \\n', rank_3_tensor, '\\n')\n",
    "\n",
    "\n"
   ]
  },
  {
   "cell_type": "code",
   "execution_count": 28,
   "metadata": {},
   "outputs": [],
   "source": [
    "# You can create a tensorflow Variable too just like creating a constant as shown above.\n",
    "\n",
    "tf_variable = tf.Variable(rank_0_tensor, name=\"Rank0Tensor\")"
   ]
  },
  {
   "cell_type": "code",
   "execution_count": 29,
   "metadata": {
    "tags": []
   },
   "outputs": [
    {
     "output_type": "stream",
     "name": "stdout",
     "text": [
      "tf.Tensor([1 2 3 4 5 6 7 8], shape=(8,), dtype=int32) \n",
      "\n",
      "Tensor Value :  [1 2 3 4 5 6 7 8] \n",
      "\n",
      "Linspace usage :  tf.Tensor([1. 3. 5. 7. 9.], shape=(5,), dtype=float32)\n"
     ]
    }
   ],
   "source": [
    "# It is also possible to generate sequence of numbers using Tensorflow.print. Impotant to note here is that the element `limit` is not counted here also as per Python rules. Check python documentation for more details.\n",
    "\n",
    "seq_of_nos = tf.range(start=1, limit=9, delta=1, name=\"range\")\n",
    "print(seq_of_nos, '\\n')\n",
    "print('Tensor Value : ', seq_of_nos.numpy(), '\\n' )\n",
    "\n",
    "# You can also use linspace as shown below.\n",
    "# Linspace creates as `stop - start / num - 1` .\n",
    "seq_using_lin = tf.linspace(start=1.0, stop=9, num=5, name=\"Linspace\")\n",
    "print('Linspace usage : ', seq_using_lin)"
   ]
  },
  {
   "cell_type": "code",
   "execution_count": 30,
   "metadata": {
    "tags": []
   },
   "outputs": [
    {
     "output_type": "stream",
     "name": "stdout",
     "text": [
      "tf.Tensor([1 2 3 4 5 6 7 8], shape=(8,), dtype=int32)\n"
     ]
    },
    {
     "output_type": "execute_result",
     "data": {
      "text/plain": [
       "array([2, 3, 4], dtype=int32)"
      ]
     },
     "metadata": {},
     "execution_count": 30
    }
   ],
   "source": [
    "# We can also slice the vectors.\n",
    "\n",
    "slic_vec = tf.range(start=1, limit=9)\n",
    "print(slic_vec)\n",
    "slic_vec[1:4].numpy()"
   ]
  },
  {
   "cell_type": "code",
   "execution_count": 31,
   "metadata": {
    "tags": []
   },
   "outputs": [
    {
     "output_type": "stream",
     "name": "stdout",
     "text": [
      "tf.Tensor(\n[[ 0.  1.  2.  3.  4.]\n [ 5.  6.  7.  8.  9.]\n [10. 11. 12. 13. 14.]\n [15. 16. 17. 18. 19.]], shape=(4, 5), dtype=float32)\n"
     ]
    }
   ],
   "source": [
    "# To create matrices using tensorflow is also easy. \n",
    "# Here we try to create a 4X2 which is a four by two matrix.\n",
    "\n",
    "matrices = tf.constant(tf.range(20, dtype=tf.float32), shape=(4,5))\n",
    "print(matrices)"
   ]
  },
  {
   "cell_type": "code",
   "execution_count": 32,
   "metadata": {
    "tags": []
   },
   "outputs": [
    {
     "output_type": "stream",
     "name": "stdout",
     "text": [
      "tf.Tensor(\n[[ 7.  8.]\n [12. 13.]], shape=(2, 2), dtype=float32)\n"
     ]
    }
   ],
   "source": [
    "# We can also slice the matrix as desired.\n",
    "# To decode this you can read it as select index 2 to index 4 elements from row index 1 to row index 3. TO better understand this as indexes start with `0` in python it here means that select element 3 and 4 from rows 1 and 2 in plain terms.\n",
    "\n",
    "matrices1 = matrices[1:3, 2:4]\n",
    "print(matrices1)"
   ]
  },
  {
   "cell_type": "code",
   "execution_count": 33,
   "metadata": {
    "tags": []
   },
   "outputs": [
    {
     "output_type": "stream",
     "name": "stdout",
     "text": [
      "<tf.Variable 'Variable:0' shape=(3, 4) dtype=float32, numpy=\narray([[ 0.,  1.,  2.,  3.],\n       [ 4.,  5.,  6.,  7.],\n       [ 8.,  9., 10., 11.]], dtype=float32)>\n"
     ]
    },
    {
     "output_type": "execute_result",
     "data": {
      "text/plain": [
       "<tf.Variable 'Variable:0' shape=(3, 4) dtype=float32, numpy=\n",
       "array([[ 0.,  1., -1., -1.],\n",
       "       [ 4.,  5., -1., -1.],\n",
       "       [ 8.,  9., 10., 11.]], dtype=float32)>"
      ]
     },
     "metadata": {},
     "execution_count": 33
    }
   ],
   "source": [
    "# If we create a matrix using above method we will not be able to change the values inside the matrix as tensors in tensorflow cannot be modified. Instead, we create a tensor variable. To change the variables at any time first create a matrix using tensor variable and then assign new values inside the matrix by using tensor align function.\n",
    "\n",
    "# Matrix creation\n",
    "variable_mat = tf.Variable(tf.constant(tf.range(12, dtype = tf.float32), shape = (3,4)))\n",
    "print(variable_mat)\n",
    "\n",
    "\n",
    "# We change the values from 1st and 2nd row from 3rd and 4th columns. tf.ones returns elements as 1 with the provided shape.\n",
    "variable_mat[:2,2:4].assign(-1*tf.ones(shape = (2,2)))\n",
    "variable_mat"
   ]
  },
  {
   "cell_type": "code",
   "execution_count": 34,
   "metadata": {},
   "outputs": [
    {
     "output_type": "execute_result",
     "data": {
      "text/plain": [
       "<tf.Tensor: shape=(4, 3), dtype=float32, numpy=\n",
       "array([[ 0.,  4.,  8.],\n",
       "       [ 1.,  5.,  9.],\n",
       "       [-1., -1., 10.],\n",
       "       [-1., -1., 11.]], dtype=float32)>"
      ]
     },
     "metadata": {},
     "execution_count": 34
    }
   ],
   "source": [
    "# To create a transpose of a matrix simply use tf.transpose function and pass the desired matrix tensor.\n",
    "# tf.transpose(), tf.linalg.adjoint() and tf.linalg.matix_transpose() are some other functions that give similar results.\n",
    "tf.transpose(variable_mat)"
   ]
  },
  {
   "cell_type": "code",
   "execution_count": 35,
   "metadata": {
    "tags": []
   },
   "outputs": [
    {
     "output_type": "stream",
     "name": "stdout",
     "text": [
      "0.0\n"
     ]
    }
   ],
   "source": [
    "#To calculate the determinant of a square matrix \n",
    "\n",
    "determinant_of_matrix = tf.linalg.det(\n",
    "    input = tf.Variable(tf.constant(tf.range(16, dtype = tf.float32), shape = (4,4))), name=None\n",
    ")\n",
    "print(determinant_of_matrix.numpy())"
   ]
  },
  {
   "cell_type": "code",
   "execution_count": 36,
   "metadata": {
    "tags": []
   },
   "outputs": [
    {
     "output_type": "stream",
     "name": "stdout",
     "text": [
      "tf.Tensor(\n[[1. 0.]\n [0. 1.]], shape=(2, 2), dtype=float32)\ntf.Tensor(\n[[[1. 0.]\n  [0. 1.]]\n\n [[1. 0.]\n  [0. 1.]]\n\n [[1. 0.]\n  [0. 1.]]], shape=(3, 2, 2), dtype=float32)\ntf.Tensor(\n[[1. 0. 0.]\n [0. 1. 0.]], shape=(2, 3), dtype=float32)\n"
     ]
    }
   ],
   "source": [
    "# Construct one identity matrix.\n",
    "print(tf.eye(2))\n",
    "\n",
    "\n",
    "# Construct a batch of 3 identity matrices, each 2 x 2.\n",
    "# batch_identity[i, :, :] is a 2 x 2 identity matrix, i = 0, 1, 2.\n",
    "batch_identity = tf.eye(2, batch_shape=[3])\n",
    "print(batch_identity)\n",
    "\n",
    "# Construct one 2 x 3 \"identity\" matrix\n",
    "print(tf.eye(2, num_columns=3))\n",
    "\n"
   ]
  },
  {
   "cell_type": "code",
   "execution_count": 37,
   "metadata": {},
   "outputs": [
    {
     "output_type": "stream",
     "name": "stdout",
     "text": [
      "Matrix A [1 2 3] + Matrix B [1 2 3] = [2 4 6]\n"
     ]
    }
   ],
   "source": [
    "# addition of two matrices \n",
    "\n",
    "a = tf.constant([1,2,3])\n",
    "\n",
    "b = tf.constant([1,2,3])\n",
    "\n",
    "c = tf.add(A1, B1)\n",
    "print(\"Matrix A {0} + Matrix B {1} = {2}\".format(a, b, c))"
   ]
  },
  {
   "cell_type": "code",
   "execution_count": 38,
   "metadata": {},
   "outputs": [
    {
     "output_type": "stream",
     "name": "stdout",
     "text": [
      "tf.Tensor(\n[[1 0 0]\n [0 2 0]\n [0 0 3]], shape=(3, 3), dtype=int32)\ntf.Tensor(\n[[1 0 0 0 0]\n [0 2 0 0 0]\n [0 0 3 0 0]\n [0 0 0 4 0]\n [0 0 0 0 5]], shape=(5, 5), dtype=int32)\n"
     ]
    }
   ],
   "source": [
    "# Create a diagonal matrix\n",
    "\n",
    "diag_matrix = tf.linalg.diag(diagonal=[1,2,3], num_rows=3, num_cols=3)\n",
    "print(diag_matrix)\n",
    "\n",
    "# Or we can use\n",
    "\n",
    "diag_matrix = tf.linalg.tensor_diag(tf.constant([1,2,3,4,5]))\n",
    "print(diag_matrix)"
   ]
  },
  {
   "cell_type": "code",
   "execution_count": 39,
   "metadata": {},
   "outputs": [
    {
     "output_type": "stream",
     "name": "stdout",
     "text": [
      "Matrix A: [[1 2 3]\n [4 5 6]] multipled by Vector B : [ 7  9 11] equals too [ 58 139]\n"
     ]
    }
   ],
   "source": [
    "# Multiply matrix A by a vector B.\n",
    "\n",
    "# 2-D tensor\n",
    "a = tf.constant([1, 2, 3, 4, 5, 6], shape=[2, 3])\n",
    "#print(a)\n",
    "\n",
    "# 1-D tensor\n",
    "b = tf.constant([7, 9, 11], shape=[3])\n",
    "\n",
    "# a * b\n",
    "c = tf.linalg.matvec(a, b)\n",
    "\n",
    "print(\"Matrix A: {0} multipled by Vector B : {1} equals too {2}\".format(a.numpy(), b, c))\n",
    "\n",
    "\n"
   ]
  },
  {
   "cell_type": "code",
   "execution_count": 6,
   "metadata": {},
   "outputs": [
    {
     "output_type": "stream",
     "name": "stdout",
     "text": [
      "Matrix A: [[[ 1  2  3]\n  [ 4  5  6]]\n\n [[ 7  8  9]\n  [10 11 12]]] multipled by Vector B : [[13 14 15]\n [16 17 18]] equals too [ 86 212]\n"
     ]
    }
   ],
   "source": [
    "\n",
    "# 3-D tensor `a`\n",
    "a = tf.constant(np.arange(1, 13, dtype=np.int32),\n",
    "                shape=[2, 2, 3])\n",
    "\n",
    "# 2-D tensor `b`\n",
    "b = tf.constant(np.arange(13, 19, dtype=np.int32),\n",
    "                shape=[2, 3])\n",
    "\n",
    "# `a` * `b`\n",
    "c = tf.linalg.matvec(a, b)\n",
    "\n",
    "print(\"Matrix A: {0} multipled by Vector B : {1} equals too {2}\".format(a.numpy(), b, *c))\n"
   ]
  },
  {
   "source": [
    "References used :\n",
    "\n",
    "1. Tensorflow documentation : [linalg](https://www.tensorflow.org/api_docs/python/tf/linalg)\n",
    "2. Linear algebra blog : [Link](https://biswajitsahoo1111.github.io/post/doing-linear-algebra-using-tensorflow-2/)\n",
    "3. Tensorflow blog : [Link](https://learningtensorflow.com/learning-tensorflow-linear-algebra-lesson-10-linear-equations/)"
   ],
   "cell_type": "markdown",
   "metadata": {}
  }
 ]
}