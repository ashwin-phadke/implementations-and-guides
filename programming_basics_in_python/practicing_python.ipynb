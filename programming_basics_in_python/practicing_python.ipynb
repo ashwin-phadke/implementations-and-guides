{
 "metadata": {
  "language_info": {
   "codemirror_mode": {
    "name": "ipython",
    "version": 3
   },
   "file_extension": ".py",
   "mimetype": "text/x-python",
   "name": "python",
   "nbconvert_exporter": "python",
   "pygments_lexer": "ipython3",
   "version": "3.8.6-final"
  },
  "orig_nbformat": 2,
  "kernelspec": {
   "name": "Python 3.8.6 64-bit",
   "display_name": "Python 3.8.6 64-bit",
   "metadata": {
    "interpreter": {
     "hash": "767d51c1340bd893661ea55ea3124f6de3c7a262a8b4abca0554b478b1e2ff90"
    }
   }
  }
 },
 "nbformat": 4,
 "nbformat_minor": 2,
 "cells": [
  {
   "source": [
    "Practicing Python using statements from various online resources.\n"
   ],
   "cell_type": "markdown",
   "metadata": {}
  },
  {
   "cell_type": "code",
   "execution_count": 19,
   "metadata": {},
   "outputs": [
    {
     "output_type": "stream",
     "name": "stdout",
     "text": [
      "Even elements of list :         [1, 4, 9, 16]\nFirst four elements of list :   [1, 4, 9, 16]\nElements from index 4 :         [1, 4, 9, 16]\nAll list elements using slice :         [1, 4, 9, 16]\nElements by taking steps in between :         [1, 4, 9, 16]\n"
     ]
    }
   ],
   "source": [
    "# List comprehension\n",
    "\n",
    "a = [1, 4, 9, 16, 25, 36, 49, 64, 81, 100]\n",
    "\n",
    "#Print only even numbers.a\n",
    "list_a = [number for number in a if number % 2 == 0]\n",
    "print(\"Even elements of list :         {0}\".format(list_slice))\n",
    "\n",
    "# Slice list from front\n",
    "list_slice = a[:4]\n",
    "print(\"First four elements of list :   {0}\".format(list_slice))\n",
    "\n",
    "#Start from the fourth term in the list\n",
    "list_slicee = a[4:]\n",
    "print(\"Elements from index 4 :         {0}\".format(list_slice))\n",
    "\n",
    "# Print full list \n",
    "list_full = a[::]\n",
    "print(\"All list elements using slice :         {0}\".format(list_slice))\n",
    "\n",
    "#Print list with steps of 2\n",
    "list_steps = a[::2]\n",
    "print(\"Elements by taking steps in between :         {0}\".format(list_slice))\n"
   ]
  },
  {
   "cell_type": "code",
   "execution_count": null,
   "metadata": {},
   "outputs": [],
   "source": []
  }
 ]
}